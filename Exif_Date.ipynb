{
 "cells": [
  {
   "cell_type": "markdown",
   "metadata": {},
   "source": [
    "# Read images, extract date time of exposure from filename and store that data in Exif in the foto itself"
   ]
  },
  {
   "cell_type": "code",
   "execution_count": 2,
   "metadata": {},
   "outputs": [],
   "source": [
    "from PIL import Image\n",
    "import piexif\n",
    "import glob\n",
    "import pathlib\n",
    "import re\n",
    "from datetime import datetime"
   ]
  },
  {
   "cell_type": "markdown",
   "metadata": {},
   "source": [
    "## Where to find the fotos"
   ]
  },
  {
   "cell_type": "code",
   "execution_count": 35,
   "metadata": {},
   "outputs": [],
   "source": [
    "imageDir = r\"C:\\Users\\klaus\\Pictures\\Transfer2iPad\\Arcen\""
   ]
  },
  {
   "cell_type": "code",
   "execution_count": 36,
   "metadata": {},
   "outputs": [],
   "source": [
    "imagePattern = \"*.jpg\""
   ]
  },
  {
   "cell_type": "markdown",
   "metadata": {},
   "source": [
    "## Loop through the fotos"
   ]
  },
  {
   "cell_type": "code",
   "execution_count": 37,
   "metadata": {},
   "outputs": [],
   "source": [
    "def getDate( fileName ):\n",
    "    m = re.search( \"(.*)_([\\d-]{8}_[\\d-]{8})\", fileName )\n",
    "    dt = datetime\n",
    "    found = False\n",
    "    if m:\n",
    "        dt = datetime.strptime( m[2], \"%y-%m-%d_%H-%M-%S\" )\n",
    "        found = True\n",
    "    else:\n",
    "        m = re.search( \"(.*)_([\\d-]{8}_[\\d-]{5})\", fileName )\n",
    "        if m:\n",
    "            dt = datetime.strptime( m[2], \"%y-%m-%d_%H-%M\" )\n",
    "            found = True\n",
    "        else:\n",
    "            pass\n",
    "    return (found, dt)    \n",
    "        "
   ]
  },
  {
   "cell_type": "code",
   "execution_count": 38,
   "metadata": {},
   "outputs": [],
   "source": [
    "def setExif( imageFile, dt ):\n",
    "    bstr = dt.strftime( \"%Y:%m:%d %H:%M:%S\").encode( 'UTF-8')\n",
    "    # Open image and load Exif\n",
    "    im = Image.open( imageFile )\n",
    "    exif_dict = piexif.load(im.info[\"exif\"])\n",
    "    # Store Exif data (see chapter 4.6.5 of official Exif documentation)\n",
    "    exif_dict['Exif'][36867] = bstr\n",
    "    exif_dict['Exif'][36868] = bstr\n",
    "    # Pack exif data again\n",
    "    exif_bytes = piexif.dump(exif_dict)\n",
    "    # Save file again with the new data\n",
    "    im.save( imageFile, exif = exif_bytes )\n"
   ]
  },
  {
   "cell_type": "code",
   "execution_count": 41,
   "metadata": {},
   "outputs": [
    {
     "name": "stdout",
     "output_type": "stream",
     "text": [
      "Could not work on DuncansbyHead.jpg\n"
     ]
    }
   ],
   "source": [
    "for imageFile in glob.glob( imageDir + \"\\\\\" + imagePattern ):\n",
    "    # Get file name from path\n",
    "    imagePath = pathlib.Path( imageFile )\n",
    "    (found, dt) = getDate( imagePath.name )\n",
    "    if found:\n",
    "        setExif( imageFile, dt )\n",
    "    else:\n",
    "        print( \"Could not work on {}\".format( imagePath.name ))"
   ]
  },
  {
   "cell_type": "code",
   "execution_count": null,
   "metadata": {},
   "outputs": [],
   "source": []
  }
 ],
 "metadata": {
  "kernelspec": {
   "display_name": "Python 3",
   "language": "python",
   "name": "python3"
  },
  "language_info": {
   "codemirror_mode": {
    "name": "ipython",
    "version": 3
   },
   "file_extension": ".py",
   "mimetype": "text/x-python",
   "name": "python",
   "nbconvert_exporter": "python",
   "pygments_lexer": "ipython3",
   "version": "3.7.4"
  }
 },
 "nbformat": 4,
 "nbformat_minor": 4
}
