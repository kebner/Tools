{
 "cells": [
  {
   "cell_type": "markdown",
   "metadata": {},
   "source": [
    "# Read images, extract date time of exposure from filename and store that data in Exif in the foto itself"
   ]
  },
  {
   "cell_type": "code",
   "execution_count": 2,
   "metadata": {},
   "outputs": [],
   "source": [
    "from PIL import Image\n",
    "import piexif\n",
    "import glob\n",
    "import pathlib\n",
    "import re\n",
    "from datetime import datetime"
   ]
  },
  {
   "cell_type": "markdown",
   "metadata": {},
   "source": [
    "## Where to find the fotos"
   ]
  },
  {
   "cell_type": "code",
   "execution_count": 3,
   "metadata": {},
   "outputs": [],
   "source": [
    "imageDir = r\"C:\\Users\\klaus\\Pictures\\Transfer2iPad\""
   ]
  },
  {
   "cell_type": "code",
   "execution_count": 4,
   "metadata": {},
   "outputs": [],
   "source": [
    "imagePattern = \"Norwegen*.jpg\""
   ]
  },
  {
   "cell_type": "markdown",
   "metadata": {},
   "source": [
    "## Loop through the fotos"
   ]
  },
  {
   "cell_type": "code",
   "execution_count": null,
   "metadata": {},
   "outputs": [],
   "source": [
    "for imageFile in glob.glob( imageDir + \"\\\\\" + imagePattern ):\n",
    "    # Get file name from path\n",
    "    imagePath = pathlib.Path( imageFile )\n",
    "    # Look for date and time- Fomat is Title_YY-MM-DD_HH-MM-SS\n",
    "    m = re.search( \"(.*)_([\\d-]{8}_[\\d-]{8})\", imagePath.name )\n",
    "    if m:\n",
    "        # Create datetime object from filename data\n",
    "        dt = datetime.strptime( m[2], \"%y-%m-%d_%H-%M-%S\" )\n",
    "        # Create byte string of datetime in target format\n",
    "        bstr = dt.strftime( \"%Y:%m:%d %H:%M:%S\").encode( 'UTF-8')\n",
    "        # Open image and load Exif\n",
    "        im = Image.open( imageFile )\n",
    "        exif_dict = piexif.load(im.info[\"exif\"])\n",
    "        # Store Exif data (see chapter 4.6.5 of official Exif documentation)\n",
    "        exif_dict['Exif'][36867] = bstr\n",
    "        exif_dict['Exif'][36868] = bstr\n",
    "        # Pack exif data again\n",
    "        exif_bytes = piexif.dump(exif_dict)\n",
    "        # Save file again with the new data\n",
    "        im.save( imageFile, exif = exif_bytes )\n",
    "    else:\n",
    "        print( \"Could not work on {}\".format( imagePath.name ))"
   ]
  },
  {
   "cell_type": "code",
   "execution_count": null,
   "metadata": {},
   "outputs": [],
   "source": []
  }
 ],
 "metadata": {
  "kernelspec": {
   "display_name": "Python 3",
   "language": "python",
   "name": "python3"
  },
  "language_info": {
   "codemirror_mode": {
    "name": "ipython",
    "version": 3
   },
   "file_extension": ".py",
   "mimetype": "text/x-python",
   "name": "python",
   "nbconvert_exporter": "python",
   "pygments_lexer": "ipython3",
   "version": "3.7.4"
  }
 },
 "nbformat": 4,
 "nbformat_minor": 4
}
