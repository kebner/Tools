{
 "cells": [
  {
   "cell_type": "code",
   "execution_count": 2,
   "metadata": {},
   "outputs": [],
   "source": [
    "from PIL import Image\n",
    "import piexif"
   ]
  },
  {
   "cell_type": "code",
   "execution_count": 48,
   "metadata": {},
   "outputs": [],
   "source": [
    "imageDir = r\"C:\\Users\\klaus\\Pictures\\Transfer2iPad\""
   ]
  },
  {
   "cell_type": "code",
   "execution_count": 53,
   "metadata": {},
   "outputs": [],
   "source": [
    "imageName = \"Arcen_18-10-05_10-21-50_0013.jpg\"\n",
    "imagePattern = \"Irland*.jpg\""
   ]
  },
  {
   "cell_type": "code",
   "execution_count": 16,
   "metadata": {},
   "outputs": [],
   "source": [
    "im = Image.open( imageDir + \"\\\\\" + imageName )"
   ]
  },
  {
   "cell_type": "code",
   "execution_count": 17,
   "metadata": {},
   "outputs": [],
   "source": [
    "exif_dict = piexif.load(im.info[\"exif\"])"
   ]
  },
  {
   "cell_type": "code",
   "execution_count": 19,
   "metadata": {},
   "outputs": [
    {
     "data": {
      "text/plain": [
       "{36864: b'0221',\n",
       " 36867: b'2018:10:05 14:15:44',\n",
       " 36868: b'2018:10:05 14:15:44',\n",
       " 40962: 4000,\n",
       " 40963: 4000}"
      ]
     },
     "execution_count": 19,
     "metadata": {},
     "output_type": "execute_result"
    }
   ],
   "source": [
    "exif_dict['Exif']"
   ]
  },
  {
   "cell_type": "code",
   "execution_count": 37,
   "metadata": {},
   "outputs": [],
   "source": [
    "import glob\n",
    "import pathlib\n",
    "import re\n",
    "from datetime import datetime"
   ]
  },
  {
   "cell_type": "code",
   "execution_count": 54,
   "metadata": {},
   "outputs": [],
   "source": [
    "for imageFile in glob.glob( imageDir + \"\\\\\" + imagePattern ):\n",
    "    imagePath = pathlib.Path( imageFile )\n",
    "    m = re.search( \"(.*)_([\\d-]{8}_[\\d-]{8})\", imagePath.name )\n",
    "    if m:\n",
    "        dt = datetime.strptime( m[2], \"%y-%m-%d_%H-%M-%S\" )\n",
    "        bstr = dt.strftime( \"%Y:%m:%d %H:%M:%S\").encode( 'UTF-8')\n",
    "        im = Image.open( imageFile )\n",
    "        exif_dict = piexif.load(im.info[\"exif\"])\n",
    "        exif_dict['Exif'][36867] = bstr\n",
    "        exif_dict['Exif'][36868] = bstr\n",
    "        exif_bytes = piexif.dump(exif_dict)\n",
    "        im.save( imageFile, exif = exif_bytes )\n",
    "    else:\n",
    "        print( \"Could not work on {}\".format( imagePath.name ))"
   ]
  },
  {
   "cell_type": "code",
   "execution_count": null,
   "metadata": {},
   "outputs": [],
   "source": []
  }
 ],
 "metadata": {
  "kernelspec": {
   "display_name": "Python 3",
   "language": "python",
   "name": "python3"
  },
  "language_info": {
   "codemirror_mode": {
    "name": "ipython",
    "version": 3
   },
   "file_extension": ".py",
   "mimetype": "text/x-python",
   "name": "python",
   "nbconvert_exporter": "python",
   "pygments_lexer": "ipython3",
   "version": "3.7.4"
  }
 },
 "nbformat": 4,
 "nbformat_minor": 4
}
